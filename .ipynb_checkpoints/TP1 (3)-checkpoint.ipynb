{
 "cells": [
  {
   "cell_type": "markdown",
   "metadata": {},
   "source": [
    "# Deep-learning TP1: "
   ]
  },
  {
   "cell_type": "markdown",
   "metadata": {},
   "source": [
    "Le but de ce TP1 est d'acquérir les bases nécessaires à la compréhension des réseaux de neurones à partir d'un modèle simple de type Softmax. La tâche d'apprentissage consiste à classifier les images (28 par 28 pixels) de la base MNIST (http://yann.lecun.com/exdb/mnist/) en 10 catégories représentant les chiffres 0-9.\n",
    "\n",
    "Le TP2 consistera à généraliser les concepts de ce TP1 à un réseau de neurones multi-couches."
   ]
  },
  {
   "cell_type": "markdown",
   "metadata": {},
   "source": [
    "## Téléchargement de la base d'entraînement"
   ]
  },
  {
   "cell_type": "code",
   "execution_count": 2,
   "metadata": {
    "collapsed": false
   },
   "outputs": [],
   "source": [
    "%matplotlib inline\n",
    "import os\n",
    "import numpy as np\n",
    "import matplotlib.pyplot as plt\n",
    "\n",
    "if(\"mnist.pkl.gz\" not in os.listdir(\".\")):\n",
    "    print('download mnist data')\n",
    "    !wget http://deeplearning.net/data/mnist/mnist.pkl.gz"
   ]
  },
  {
   "cell_type": "markdown",
   "metadata": {},
   "source": [
    "## Chargement de la base en mémoire"
   ]
  },
  {
   "cell_type": "code",
   "execution_count": 3,
   "metadata": {
    "collapsed": false
   },
   "outputs": [],
   "source": [
    "import dataset_loader\n",
    "train_set, valid_set, test_set = dataset_loader.load_mnist()"
   ]
  },
  {
   "cell_type": "markdown",
   "metadata": {},
   "source": [
    "Vous pouvez visualiser les différents caractères en changeant l'identifiant de l'image"
   ]
  },
  {
   "cell_type": "code",
   "execution_count": 3,
   "metadata": {
    "collapsed": false
   },
   "outputs": [
    {
     "ename": "NameError",
     "evalue": "name 'train_set' is not defined",
     "output_type": "error",
     "traceback": [
      "\u001b[1;31m---------------------------------------------------------------------------\u001b[0m",
      "\u001b[1;31mNameError\u001b[0m                                 Traceback (most recent call last)",
      "\u001b[1;32m<ipython-input-3-1a28ede66ed8>\u001b[0m in \u001b[0;36m<module>\u001b[1;34m()\u001b[0m\n\u001b[0;32m      1\u001b[0m \u001b[0mimg_id\u001b[0m \u001b[1;33m=\u001b[0m \u001b[1;36m203\u001b[0m\u001b[1;33m\u001b[0m\u001b[0m\n\u001b[1;32m----> 2\u001b[1;33m \u001b[0mplt\u001b[0m\u001b[1;33m.\u001b[0m\u001b[0mimshow\u001b[0m\u001b[1;33m(\u001b[0m\u001b[0mtrain_set\u001b[0m\u001b[1;33m[\u001b[0m\u001b[1;36m0\u001b[0m\u001b[1;33m]\u001b[0m\u001b[1;33m[\u001b[0m\u001b[0mimg_id\u001b[0m\u001b[1;33m]\u001b[0m\u001b[1;33m.\u001b[0m\u001b[0mreshape\u001b[0m\u001b[1;33m(\u001b[0m\u001b[1;36m28\u001b[0m\u001b[1;33m,\u001b[0m\u001b[1;36m28\u001b[0m\u001b[1;33m)\u001b[0m\u001b[1;33m,\u001b[0m\u001b[0mcmap\u001b[0m\u001b[1;33m=\u001b[0m\u001b[1;34m'Greys'\u001b[0m\u001b[1;33m)\u001b[0m\u001b[1;33m\u001b[0m\u001b[0m\n\u001b[0m\u001b[0;32m      3\u001b[0m \u001b[1;32mprint\u001b[0m\u001b[1;33m(\u001b[0m\u001b[1;34m\"label: \"\u001b[0m \u001b[1;33m+\u001b[0m \u001b[0mstr\u001b[0m\u001b[1;33m(\u001b[0m\u001b[0mtrain_set\u001b[0m\u001b[1;33m[\u001b[0m\u001b[1;36m1\u001b[0m\u001b[1;33m]\u001b[0m\u001b[1;33m[\u001b[0m\u001b[0mimg_id\u001b[0m\u001b[1;33m]\u001b[0m\u001b[1;33m)\u001b[0m\u001b[1;33m)\u001b[0m\u001b[1;33m\u001b[0m\u001b[0m\n",
      "\u001b[1;31mNameError\u001b[0m: name 'train_set' is not defined"
     ]
    }
   ],
   "source": [
    "img_id = 203\n",
    "plt.imshow(train_set[0][img_id].reshape(28,28),cmap='Greys')\n",
    "print(\"label: \" + str(train_set[1][img_id]))"
   ]
  },
  {
   "cell_type": "markdown",
   "metadata": {},
   "source": [
    "Question 1: Donner les caractéristiques de la base d'apprentissage train_set"
   ]
  },
  {
   "cell_type": "code",
   "execution_count": 6,
   "metadata": {
    "collapsed": false
   },
   "outputs": [],
   "source": [
    "def getDimDataset(train_set):\n",
    "    X= train_set[0]\n",
    "    Y = train_set[1]\n",
    "    n_training = X.shape[0]\n",
    "    n_feature = X.shape[1]\n",
    "    n_label = len(set(Y))\n",
    "    return n_training, n_feature, n_label"
   ]
  },
  {
   "cell_type": "code",
   "execution_count": 8,
   "metadata": {
    "collapsed": false
   },
   "outputs": [],
   "source": [
    "n_training, n_feature, n_label= getDimDataset(train_set)"
   ]
  },
  {
   "cell_type": "markdown",
   "metadata": {},
   "source": [
    "## Création du modèle"
   ]
  },
  {
   "cell_type": "code",
   "execution_count": 9,
   "metadata": {
    "collapsed": false
   },
   "outputs": [],
   "source": [
    "def init(n_feature,n_label):\n",
    "    sigma = 1.\n",
    "    W = np.random.normal(loc=0.0, scale=sigma/np.sqrt(n_feature), size=(n_label,n_feature))\n",
    "    b = np.zeros((W.shape[0],1))\n",
    "    return W,b"
   ]
  },
  {
   "cell_type": "markdown",
   "metadata": {},
   "source": [
    "Question 2: Donner les dimensions de W et b ainsi que le nombre total de paramètres du modèle"
   ]
  },
  {
   "cell_type": "code",
   "execution_count": 12,
   "metadata": {
    "collapsed": false
   },
   "outputs": [],
   "source": [
    "def printInfo(W,b):\n",
    "    print(\"W dimensions: \" + str(W.shape))\n",
    "    print(\"b dimensions: \" + str(b.shape))\n",
    "    print(\"Number of parameters: \" , W.shape[0]*W.shape[1]+b.shape[0])\n",
    "    "
   ]
  },
  {
   "cell_type": "code",
   "execution_count": 13,
   "metadata": {
    "collapsed": false
   },
   "outputs": [
    {
     "name": "stdout",
     "output_type": "stream",
     "text": [
      "W dimensions: (10, 784)\n",
      "b dimensions: (10, 1)\n",
      "('Number of parameters: ', 7850)\n"
     ]
    }
   ],
   "source": [
    "W, b = init(n_feature, n_label)\n",
    "printInfo(W,b)"
   ]
  },
  {
   "cell_type": "code",
   "execution_count": 14,
   "metadata": {
    "collapsed": false
   },
   "outputs": [
    {
     "name": "stdout",
     "output_type": "stream",
     "text": [
      "(50000, 784)\n"
     ]
    }
   ],
   "source": [
    "print(train_set[0].shape)"
   ]
  },
  {
   "cell_type": "markdown",
   "metadata": {},
   "source": [
    "Question 3: Implémenter la fonction forward $$z_j = \\sum_{i \\rightarrow j} W_{ij} x_i + b_j$$ où $x_i$ est un pixel de l'image, $W_{ij}$ est la valeur associée à l'arête reliant les unités $i$ et $j$ et $b_j$ est le bias associé à l'unité $j$"
   ]
  },
  {
   "cell_type": "code",
   "execution_count": 20,
   "metadata": {
    "collapsed": true
   },
   "outputs": [],
   "source": [
    "def forward(W,b,X):\n",
    "    \"\"\"\n",
    "        Perform the forward propagation\n",
    "        :param W: the weights\n",
    "        :param b: the bias\n",
    "        :param X: the input (minibatch_size x n_input)\n",
    "        :type W: ndarray\n",
    "        :type B: ndarray\n",
    "        :type X: ndarray\n",
    "        :return: the transformed values\n",
    "        :rtype: ndarray\n",
    "    \"\"\"\n",
    "    \n",
    "    \n",
    "    Z= (np.dot(W,X.T)+b)\n",
    "    \n",
    "    \n",
    "    return Z"
   ]
  },
  {
   "cell_type": "code",
   "execution_count": 21,
   "metadata": {
    "collapsed": false
   },
   "outputs": [
    {
     "data": {
      "text/plain": [
       "(10, 100)"
      ]
     },
     "execution_count": 21,
     "metadata": {},
     "output_type": "execute_result"
    }
   ],
   "source": [
    "X = train_set[0]\n",
    "F = forward(W,b,X[0:100])\n",
    "F.shape"
   ]
  },
  {
   "cell_type": "markdown",
   "metadata": {},
   "source": [
    "Question 4: Implémenter la fonction softmax $$ \\sigma_i = P(t=i|x,W,b) = \\frac{\\exp{z_i}}{\\sum_k \\exp{z_k}}$$"
   ]
  },
  {
   "cell_type": "code",
   "execution_count": 17,
   "metadata": {
    "collapsed": false
   },
   "outputs": [],
   "source": [
    "def softmax(z):\n",
    "    \"\"\"\n",
    "        Perform the softmax transformation to the pre-activation values\n",
    "        :param z: the pre-activation values\n",
    "        :type z: ndarray\n",
    "        :return: the activation values\n",
    "        :rtype: ndarray\n",
    "    \"\"\"\n",
    "    p = np.max(z, 0)\n",
    "    \n",
    "    return np.exp(z-p)/np.sum(np.exp(z-p))"
   ]
  },
  {
   "cell_type": "markdown",
   "metadata": {},
   "source": [
    "Optionnel: Vérifier que votre implémentation de softmax soit numériquement stable (cf. http://ufldl.stanford.edu/wiki/index.php/Exercise:Softmax_Regression)"
   ]
  },
  {
   "cell_type": "code",
   "execution_count": 18,
   "metadata": {
    "collapsed": false
   },
   "outputs": [
    {
     "name": "stdout",
     "output_type": "stream",
     "text": [
      "[ 1.  0.  0.]\n"
     ]
    }
   ],
   "source": [
    "# Example for testing the numerical stability of softmax\n",
    "# It should return [1., 0. ,0.], not [nan, 0., 0.]\n",
    "z = [1000000,1,100]\n",
    "print(softmax(z))"
   ]
  },
  {
   "cell_type": "code",
   "execution_count": 26,
   "metadata": {
    "collapsed": true
   },
   "outputs": [],
   "source": [
    "def gradient_out(out, one_hot_batch):\n",
    "    \"\"\"\n",
    "    compute the gradient w.r.t. the pre-activation values of the softmax z_i\n",
    "    :param out: the softmax values\n",
    "    :type out: ndarray\n",
    "    :param one_hot_batch: the one-hot representation of the labels\n",
    "    :type one_hot_batch: ndarray\n",
    "    :return: the gradient w.r.t. z\n",
    "    :rtype: ndarray\n",
    "    \"\"\"\n",
    "    \n",
    "    dz = out - one_hot_batch\n",
    "    \n",
    "    return dz"
   ]
  },
  {
   "cell_type": "markdown",
   "metadata": {},
   "source": [
    "Question 5: Implémenter le calcul du gradient de l'erreur par rapport à $z_i$:\n",
    "$$\\delta z_i = \\sigma_i - 1_{i=l}$$\n",
    "où $l$ est l'étiquette associée à la donnée courante."
   ]
  },
  {
   "cell_type": "code",
   "execution_count": null,
   "metadata": {
    "collapsed": true
   },
   "outputs": [],
   "source": [
    "out = softmax(F)\n",
    "derror = gradient_out(out, )\n"
   ]
  },
  {
   "cell_type": "markdown",
   "metadata": {},
   "source": [
    "Question 6: Implémenter la fonction du calcul de gradient par rapport aux paramètres: $$\\delta W_{ij} = \\delta z_j x_i$$  $$\\delta b_{j} = \\delta z_j$$ où $\\delta W_{ij}$ est la composante du gradient associée à l'arête reliant les unités $i$ et $j$, $\\delta b_{j}$ est la composante du gradient associée au bias de l'unité $j$, $\\delta z_j$ est le gradient de l'erreur par rapport à l'unité $j$ et $x_i$ est la valeur d'activation de l'unité $i$."
   ]
  },
  {
   "cell_type": "code",
   "execution_count": 23,
   "metadata": {
    "collapsed": true
   },
   "outputs": [],
   "source": [
    "def gradient(derror, X):\n",
    "    \"\"\"\n",
    "        Compute the gradient w.r.t. the parameters\n",
    "        :param derror: the gradient w.r.t. z\n",
    "        :param X: the input (minibatch_size x n_input)\n",
    "        :param minibatch_size: the minibatch size\n",
    "        :type derror: ndarray\n",
    "        :type minibatch: ndarray\n",
    "        :type minibatch_size: unsigned\n",
    "        :return: the gradient w.r.t. the parameters\n",
    "        :rtype: ndarray, ndarray\n",
    "    \"\"\"\n",
    "    minibatch_size = X.shape[0]\n",
    "    grad_w = derror.dot(X)/minibatch_size\n",
    "    grad_b = np.sum(derror, axis =1).reshape(-1, 1)/minibatch_size\n",
    "    return grad_w,grad_b"
   ]
  },
  {
   "cell_type": "code",
   "execution_count": null,
   "metadata": {
    "collapsed": true
   },
   "outputs": [],
   "source": [
    "grad_w, grad_b= gradient(derror, X)"
   ]
  },
  {
   "cell_type": "markdown",
   "metadata": {},
   "source": [
    "Question 7: Implémenter la fonction de mise à jour des paramètres $$p = p - \\eta \\delta p$$ où $p$ est un paramètre du modèle et $\\delta p$ la composante du gradient associée à p."
   ]
  },
  {
   "cell_type": "code",
   "execution_count": 24,
   "metadata": {
    "collapsed": true
   },
   "outputs": [],
   "source": [
    "def update(eta, W, b, grad_w, grad_b):\n",
    "    \"\"\"\n",
    "        Update the parameters with an update rule\n",
    "        :param eta: the step-size\n",
    "        :param W: the weights\n",
    "        :param b: the bias\n",
    "        :param grad_w: the gradient w.r.t. the weights\n",
    "        :param grad_b: the gradient w.r.t. the bias\n",
    "        :type eta: float\n",
    "        :type W: ndarray\n",
    "        :type b: ndarray\n",
    "        :type grad_w: ndarray\n",
    "        :type grad_b: ndarray\n",
    "        :return: the updated parameters\n",
    "        :rtype: ndarray, ndarray\n",
    "    \"\"\"\n",
    "    \n",
    "    W -= eta* grad_w\n",
    "    b -= eta*grad_b\n",
    "    \n",
    "    return W,b"
   ]
  },
  {
   "cell_type": "markdown",
   "metadata": {},
   "source": [
    "## Algorithme d'apprentissage"
   ]
  },
  {
   "cell_type": "code",
   "execution_count": 27,
   "metadata": {
    "collapsed": false
   },
   "outputs": [
    {
     "name": "stdout",
     "output_type": "stream",
     "text": [
      "W dimensions: (10, 784)\n",
      "b dimensions: (10, 1)\n",
      "('Number of parameters: ', 7850)\n",
      "0 0.277408 13.1848956716 0.08858 11.5845769268 0.0817 0.001\n",
      "1 0.581935 13.0823203098 0.1472 11.4790817371 0.1429 0.001\n",
      "2 0.819943 12.9858561096 0.2374 11.379865309 0.2407 0.001\n",
      "3 1.055634 12.8971206997 0.3293 11.2883360364 0.3356 0.001\n",
      "4 1.292459 12.8163035426 0.3985 11.204747942 0.4019 0.001\n",
      "5 1.530918 12.7425328375 0.44554 11.1283606591 0.4514 0.001\n",
      "6 1.769224 12.6749512997 0.47862 11.0582884015 0.4847 0.001\n",
      "7 2.003965 12.6128705481 0.50468 10.9938338867 0.5104 0.001\n",
      "8 2.241514 12.5557439612 0.52782 10.934326294 0.5371 0.001\n",
      "9 2.47646 12.5030453947 0.54772 10.8792624599 0.5609 0.001\n",
      "10 2.712113 12.4544059303 0.5666 10.8282531265 0.583 0.001\n",
      "11 2.948027 12.4095105376 0.58312 10.780998749 0.6017 0.001\n",
      "12 3.183126 12.3681704163 0.5958 10.7373147143 0.6159 0.001\n",
      "13 3.418414 12.3301757302 0.60692 10.6970697847 0.6271 0.001\n",
      "14 3.655582 12.2953310579 0.61662 10.6600424225 0.6383 0.001\n",
      "15 3.892402 12.2634375801 0.62446 10.6260504056 0.6468 0.001\n",
      "16 4.128555 12.2343229867 0.63066 10.5949443847 0.6536 0.001\n",
      "17 4.364152 12.2078273441 0.63634 10.5665745504 0.6597 0.001\n",
      "18 4.60061 12.1837847804 0.64068 10.5407318903 0.6639 0.001\n",
      "19 4.835984 12.1620600638 0.644 10.5172491958 0.6691 0.001\n",
      "20 5.071989 12.1425205145 0.64754 10.4959460772 0.6726 0.001\n",
      "21 5.306856 12.1250145932 0.65062 10.4767170521 0.677 0.001\n",
      "22 5.543483 12.1094228293 0.65286 10.4594448466 0.6807 0.001\n",
      "23 5.77919 12.0956253904 0.65494 10.4440190747 0.6829 0.001\n",
      "24 6.014759 12.0835064339 0.6569 10.430336083 0.6859 0.001\n",
      "25 6.251544 12.0729684986 0.65868 10.4182657721 0.6882 0.001\n",
      "26 6.487611 12.063912551 0.66014 10.4077149229 0.6897 0.001\n",
      "27 6.722579 12.0562498271 0.6615 10.3985937135 0.6914 0.001\n",
      "28 6.958171 12.0498942031 0.66242 10.3908232492 0.6923 0.001\n",
      "29 7.192991 12.0447719649 0.6635 10.3843237043 0.6926 0.001\n",
      "30 7.428977 12.0408072627 0.6642 10.3790192891 0.6936 0.001\n",
      "31 7.664074 12.0379366467 0.6652 10.3748260415 0.6957 0.001\n",
      "32 7.899298 12.0360802833 0.66572 10.3716635677 0.6975 0.001\n",
      "33 8.134544 12.035185335 0.66622 10.3694918045 0.6984 0.001\n",
      "34 8.370937 12.0351965155 0.66674 10.3682458926 0.6986 0.001\n",
      "35 8.606503 12.0360629395 0.66744 10.3678775711 0.6993 0.001\n",
      "36 8.841717 12.0377289825 0.66798 10.3683250301 0.7003 0.001\n",
      "37 9.077406 12.0401473465 0.66858 10.3695333205 0.701 0.001\n",
      "38 9.313613 12.0432751714 0.66892 10.3714713092 0.7013 0.001\n",
      "39 9.548921 12.047071678 0.66956 10.3740817094 0.7014 0.001\n",
      "40 9.78422 12.0514990755 0.66982 10.3773236803 0.7013 0.001\n",
      "41 10.020192 12.0565232964 0.6702 10.3811688557 0.7015 0.001\n",
      "42 10.273645 12.0621082529 0.6705 10.3855907424 0.7013 0.001\n",
      "43 10.56186 12.0682210754 0.67062 10.3905464164 0.7012 0.001\n",
      "44 10.81272 12.0748338833 0.67096 10.3959986607 0.7018 0.001\n",
      "45 11.051176 12.0819180584 0.67132 10.401932198 0.7016 0.001\n",
      "46 11.289254 12.0894469543 0.67156 10.4083138267 0.7018 0.001\n",
      "47 11.526908 12.0973964649 0.6719 10.4151182429 0.7023 0.001\n",
      "48 11.763297 12.1057445992 0.67232 10.4223263127 0.7023 0.001\n",
      "49 12.006484 12.1144684997 0.67242 10.4299211607 0.7027 0.001\n",
      "50 12.243882 12.1235523928 0.67264 10.4378775746 0.7024 0.001\n",
      "51 12.484163 12.1329742087 0.67248 10.446180515 0.7024 0.001\n",
      "52 12.720813 12.1427168651 0.6724 10.4548094782 0.7024 0.001\n",
      "53 12.958178 12.1527650753 0.67238 10.4637499251 0.7028 0.001\n",
      "54 13.195588 12.1631043545 0.67236 10.4729806144 0.7027 0.001\n",
      "55 13.433901 12.1737208549 0.67242 10.4824879558 0.7029 0.001\n",
      "56 13.67144 12.1845994206 0.6726 10.4922601051 0.7027 0.001\n",
      "57 13.90895 12.1957268933 0.67282 10.5022892921 0.7028 0.001\n",
      "58 14.147787 12.2070928836 0.67314 10.5125639944 0.7026 0.001\n",
      "59 14.434562 12.2186829076 0.67314 10.5230672158 0.7026 0.001\n",
      "60 14.67185 12.2304878642 0.67302 10.5337899469 0.7026 0.001\n",
      "61 14.908945 12.2424986583 0.67302 10.5447191807 0.7024 0.001\n",
      "62 15.145151 12.2547068073 0.67302 10.5558419588 0.7027 0.001\n",
      "63 15.382083 12.2671037017 0.67334 10.5671545834 0.7028 0.001\n",
      "64 15.619498 12.2796809452 0.67328 10.5786458848 0.7032 0.001\n",
      "65 15.855388 12.2924275455 0.67342 10.5903072577 0.7037 0.001\n",
      "66 16.105161 12.3053365516 0.67344 10.6021342233 0.7038 0.001\n",
      "67 16.404837 12.3184030564 0.67342 10.6141170913 0.7039 0.001\n",
      "68 16.706611 12.3316190031 0.67342 10.6262500451 0.7039 0.001\n",
      "69 16.972383 12.344979426 0.67342 10.6385256518 0.7037 0.001\n",
      "70 17.207131 12.358476959 0.67362 10.6509374875 0.704 0.001\n",
      "71 17.442638 12.3721064222 0.67372 10.6634798092 0.7043 0.001\n",
      "72 17.677656 12.3858631735 0.67372 10.6761460745 0.7041 0.001\n",
      "73 17.912854 12.3997418841 0.67366 10.6889283944 0.7042 0.001\n",
      "74 18.149582 12.4137371462 0.67364 10.7018264972 0.7041 0.001\n",
      "75 18.407029 12.4278432448 0.67372 10.7148358832 0.704 0.001\n",
      "76 18.691853 12.4420548254 0.67364 10.7279510083 0.7041 0.001\n",
      "77 18.940424 12.4563679066 0.67344 10.7411683388 0.7042 0.001\n",
      "78 19.178708 12.4707794895 0.6737 10.7544853152 0.7039 0.001\n",
      "79 19.416234 12.4852860847 0.67362 10.7678977564 0.704 0.001\n",
      "80 19.653375 12.499883041 0.67368 10.7814003788 0.7044 0.001\n",
      "81 19.890853 12.5145665125 0.67366 10.7949900426 0.7044 0.001\n",
      "82 20.125618 12.5293339771 0.67374 10.8086622714 0.7041 0.001\n",
      "83 20.360313 12.5441834807 0.67376 10.8224142908 0.704 0.001\n",
      "84 20.595833 12.5591122375 0.67386 10.8362436474 0.7039 0.001\n",
      "85 20.831863 12.57411585 0.67386 10.8501494383 0.704 0.001\n",
      "86 21.067532 12.5891925643 0.6739 10.864128422 0.7042 0.001\n",
      "87 21.304434 12.6043397085 0.6739 10.8781769762 0.7041 0.001\n",
      "88 21.5402 12.6195551034 0.674 10.8922924406 0.704 0.001\n",
      "89 21.774403 12.6348368357 0.67406 10.9064732168 0.7039 0.001\n",
      "90 22.009652 12.6501823637 0.67402 10.9207169742 0.7038 0.001\n",
      "91 22.243327 12.665588636 0.67408 10.9350214633 0.7037 0.001\n",
      "92 22.50484 12.6810543137 0.67402 10.9493846348 0.7036 0.001\n",
      "93 22.740872 12.696577694 0.674 10.9638040961 0.7037 0.001\n",
      "94 22.976844 12.7121567708 0.67394 10.9782781573 0.7038 0.001\n",
      "95 23.213312 12.7277898325 0.6739 10.9928044086 0.7038 0.001\n",
      "96 23.448756 12.7434747909 0.67382 11.0073821384 0.7036 0.001\n",
      "97 23.684571 12.7592106269 0.67382 11.0220098941 0.7036 0.001\n",
      "98 23.920537 12.7749955038 0.67374 11.0366859885 0.7034 0.001\n",
      "99 24.157467 12.790828161 0.6739 11.051408481 0.7035 0.001\n"
     ]
    }
   ],
   "source": [
    "import math,time\n",
    "from IPython.display import clear_output\n",
    "from aux import *\n",
    "\n",
    "# Data structures for plotting\n",
    "g_i = []\n",
    "g_train_loss=[]\n",
    "g_train_acc=[]\n",
    "g_valid_loss=[]\n",
    "g_valid_acc=[]\n",
    "\n",
    "n_training, n_feature, n_label = getDimDataset(train_set)\n",
    "\n",
    "# SGD parameters\n",
    "eta = 0.001\n",
    "batch_size = 500\n",
    "n_batch = int(math.ceil(float(n_training)/batch_size))\n",
    "n_epoch = 100\n",
    "\n",
    "cumul_time = 0.\n",
    "\n",
    "# Initialize the model parameters\n",
    "W,b = init(n_feature,n_label)\n",
    "printInfo(W,b)\n",
    "\n",
    "# Convert the labels to one-hot vector\n",
    "one_hot = np.zeros((n_label,n_training))\n",
    "one_hot[train_set[1],np.arange(n_training)]=1.\n",
    "\n",
    "for i in range(n_epoch):\n",
    "    for j in range(n_batch):\n",
    "\n",
    "        ### Mini-batch creation\n",
    "        minibatch, one_hot_batch, minibatch_size = getMiniBatch(j, batch_size, train_set, one_hot)\n",
    "\n",
    "        prev_time = time.clock()\n",
    "\n",
    "        ### Forward propagation\n",
    "        Z = forward(W,b,minibatch)\n",
    "\n",
    "        ### Compute the softmax\n",
    "        out = softmax(Z)\n",
    "\n",
    "        ### Compute the gradient at the top layer\n",
    "        derror = gradient_out(out,one_hot_batch)\n",
    "\n",
    "        ### Compute the gradient w.r.t. parameters\n",
    "        grad_w,grad_b = gradient(derror, minibatch)\n",
    "\n",
    "        ### Update the parameters\n",
    "        W,b = update(eta, W, b, grad_w, grad_b)\n",
    "        \n",
    "        curr_time = time.clock()\n",
    "        cumul_time += curr_time - prev_time\n",
    "    \n",
    "    ### Training accuracy\n",
    "    train_loss, train_acc = computeLoss(W, b, train_set[0], train_set[1],softmax) \n",
    "    \n",
    "    ### Valid accuracy\n",
    "    valid_loss, valid_acc = computeLoss(W, b, valid_set[0], valid_set[1],softmax) \n",
    "\n",
    "    g_i = np.append(g_i, i)\n",
    "    g_train_loss = np.append(g_train_loss, train_loss)\n",
    "    g_train_acc = np.append(g_train_acc, train_acc)\n",
    "    g_valid_loss = np.append(g_valid_loss, valid_loss)\n",
    "    g_valid_acc = np.append(g_valid_acc, valid_acc)\n",
    "    \n",
    "    result_line = str(i) + \" \" + str(cumul_time) + \" \" + str(train_loss) + \" \" + str(train_acc) + \" \" + str(valid_loss) + \" \" + str(valid_acc) + \" \" + str(eta)\n",
    "    print(result_line)"
   ]
  },
  {
   "cell_type": "code",
   "execution_count": 28,
   "metadata": {
    "collapsed": false
   },
   "outputs": [
    {
     "data": {
      "text/plain": [
       "<matplotlib.legend.Legend at 0x7fc8ca4feb50>"
      ]
     },
     "execution_count": 28,
     "metadata": {},
     "output_type": "execute_result"
    },
    {
     "data": {
      "image/png": "[encoded data removed]",
      "text/plain": [
       "<matplotlib.figure.Figure at 0x7fc8ca5eab90>"
      ]
     },
     "metadata": {},
     "output_type": "display_data"
    }
   ],
   "source": [
    "plt.plot(g_i,g_train_loss,label='train_loss')\n",
    "plt.plot(g_i,g_valid_loss,label='valid_loss')\n",
    "plt.xlabel(\"epoch\")\n",
    "plt.ylabel(\"Negative log-likelihood\")\n",
    "plt.legend()"
   ]
  },
  {
   "cell_type": "code",
   "execution_count": 29,
   "metadata": {
    "collapsed": false
   },
   "outputs": [
    {
     "data": {
      "text/plain": [
       "<matplotlib.legend.Legend at 0x7fc8ca3b4c90>"
      ]
     },
     "execution_count": 29,
     "metadata": {},
     "output_type": "execute_result"
    },
    {
     "data": {
      "image/png": "[encoded data removed]",
      "text/plain": [
       "<matplotlib.figure.Figure at 0x7fc8ca486b50>"
      ]
     },
     "metadata": {},
     "output_type": "display_data"
    }
   ],
   "source": [
    "plt.plot(g_i,1.0-g_train_acc,label='train_acc')\n",
    "plt.plot(g_i,1.0-g_valid_acc,label='valid_acc')\n",
    "plt.xlabel(\"epoch\")\n",
    "plt.ylabel(\"Classification error\")\n",
    "plt.ylim([0.,1.])\n",
    "plt.legend()"
   ]
  },
  {
   "cell_type": "markdown",
   "metadata": {},
   "source": [
    "Question 8: Montrer, à l'aide d'une figure, l'effet du step-size (prendre $\\eta$=[0.01,0.1,1.0,10.]) sur les courbes d'apprentissage"
   ]
  },
  {
   "cell_type": "code",
   "execution_count": null,
   "metadata": {
    "collapsed": true
   },
   "outputs": [],
   "source": []
  }
 ],
 "metadata": {
  "anaconda-cloud": {},
  "kernelspec": {
   "display_name": "Python 2",
   "language": "python",
   "name": "python2"
  },
  "language_info": {
   "codemirror_mode": {
    "name": "ipython",
    "version": 2
   },
   "file_extension": ".py",
   "mimetype": "text/x-python",
   "name": "python",
   "nbconvert_exporter": "python",
   "pygments_lexer": "ipython2",
   "version": "2.7.10"
  }
 },
 "nbformat": 4,
 "nbformat_minor": 0
}
